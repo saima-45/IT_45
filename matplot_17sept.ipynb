{
 "cells": [
  {
   "cell_type": "code",
   "execution_count": 12,
   "metadata": {},
   "outputs": [
    {
     "name": "stdout",
     "output_type": "stream",
     "text": [
      "      Name  Age Gender  Grade  Marks\n",
      "0    Alice   20      F     10     85\n",
      "1      Bob   19      M     10     78\n",
      "2  Charlie   21      M     11     92\n",
      "3    Diana   20      F     11     88\n",
      "4    Ethan   22      M     12     76\n",
      "5    Fiona   19      F     12     95\n"
     ]
    }
   ],
   "source": [
    "import pandas as pd\n",
    "df = pd.read_csv(\"Z:\\ITSkills\\students.csv\")\n",
    "print(df)"
   ]
  },
  {
   "cell_type": "code",
   "execution_count": 16,
   "metadata": {},
   "outputs": [
    {
     "name": "stdout",
     "output_type": "stream",
     "text": [
      "\n",
      "First 3 rows of the DataFrame:\n",
      "      Name  Age Gender  Grade  Marks\n",
      "0    Alice   20      F     10     85\n",
      "1      Bob   19      M     10     78\n",
      "2  Charlie   21      M     11     92\n"
     ]
    }
   ],
   "source": [
    "df = pd.read_csv(\"Z:\\ITSkills\\students.csv\")\n",
    "print(\"\\nFirst 3 rows of the DataFrame:\")\n",
    "print(df.head(3))"
   ]
  },
  {
   "cell_type": "code",
   "execution_count": 19,
   "metadata": {},
   "outputs": [
    {
     "name": "stdout",
     "output_type": "stream",
     "text": [
      "      Name  Age Gender  Grade  Marks\n",
      "0    Alice   20      F     10     85\n",
      "1      Bob   19      M     10     78\n",
      "2  Charlie   21      M     11     92\n",
      "3    Diana   20      F     11     88\n",
      "4    Ethan   22      M     12     76\n",
      "5    Fiona   19      F     12     95\n"
     ]
    }
   ],
   "source": [
    "df = pd.read_excel(\"Z:\\ITSkills\\STUDENT.xlsx\")\n",
    "print(df)"
   ]
  },
  {
   "cell_type": "code",
   "execution_count": 20,
   "metadata": {},
   "outputs": [
    {
     "name": "stdout",
     "output_type": "stream",
     "text": [
      "<class 'pandas.core.frame.DataFrame'>\n",
      "RangeIndex: 6 entries, 0 to 5\n",
      "Data columns (total 5 columns):\n",
      " #   Column  Non-Null Count  Dtype \n",
      "---  ------  --------------  ----- \n",
      " 0   Name    6 non-null      object\n",
      " 1   Age     6 non-null      int64 \n",
      " 2   Gender  6 non-null      object\n",
      " 3   Grade   6 non-null      int64 \n",
      " 4   Marks   6 non-null      int64 \n",
      "dtypes: int64(3), object(2)\n",
      "memory usage: 372.0+ bytes\n"
     ]
    }
   ],
   "source": [
    "df.info()"
   ]
  },
  {
   "cell_type": "code",
   "execution_count": 21,
   "metadata": {},
   "outputs": [
    {
     "name": "stdout",
     "output_type": "stream",
     "text": [
      "      Name  Age Gender  Grade  Marks\n",
      "0    Alice   20      F     10     85\n",
      "2  Charlie   21      M     11     92\n",
      "3    Diana   20      F     11     88\n",
      "5    Fiona   19      F     12     95\n"
     ]
    }
   ],
   "source": [
    "filtered_df = df[df['Marks'] > 80]\n",
    "print(filtered_df)"
   ]
  },
  {
   "cell_type": "code",
   "execution_count": 23,
   "metadata": {},
   "outputs": [
    {
     "name": "stdout",
     "output_type": "stream",
     "text": [
      "    Name  Age Gender  Grade  Marks\n",
      "0  Alice   20      F     10     85\n",
      "3  Diana   20      F     11     88\n",
      "5  Fiona   19      F     12     95\n"
     ]
    }
   ],
   "source": [
    "female_students = df[df['Gender'] == 'F']\n",
    "print(female_students)"
   ]
  },
  {
   "cell_type": "code",
   "execution_count": 24,
   "metadata": {},
   "outputs": [
    {
     "name": "stdout",
     "output_type": "stream",
     "text": [
      "      Name  Marks\n",
      "0    Alice     85\n",
      "1      Bob     78\n",
      "2  Charlie     92\n",
      "3    Diana     88\n",
      "4    Ethan     76\n",
      "5    Fiona     95\n"
     ]
    }
   ],
   "source": [
    "print(df[['Name', 'Marks']])"
   ]
  },
  {
   "cell_type": "code",
   "execution_count": 25,
   "metadata": {},
   "outputs": [
    {
     "name": "stdout",
     "output_type": "stream",
     "text": [
      "         Age Gender  Grade  Marks\n",
      "Name                             \n",
      "Alice     20      F     10     85\n",
      "Bob       19      M     10     78\n",
      "Charlie   21      M     11     92\n",
      "Diana     20      F     11     88\n",
      "Ethan     22      M     12     76\n",
      "Fiona     19      F     12     95\n"
     ]
    }
   ],
   "source": [
    "df = df.set_index('Name')\n",
    "print(df)"
   ]
  },
  {
   "cell_type": "code",
   "execution_count": 26,
   "metadata": {},
   "outputs": [
    {
     "name": "stdout",
     "output_type": "stream",
     "text": [
      "         Age Gender  Grade  Marks\n",
      "Name                             \n",
      "Fiona     19      F     12     95\n",
      "Charlie   21      M     11     92\n",
      "Diana     20      F     11     88\n",
      "Alice     20      F     10     85\n",
      "Bob       19      M     10     78\n",
      "Ethan     22      M     12     76\n"
     ]
    }
   ],
   "source": [
    "sorted_df = df.sort_values(by='Marks', ascending=False)\n",
    "print(sorted_df)"
   ]
  },
  {
   "cell_type": "code",
   "execution_count": 27,
   "metadata": {},
   "outputs": [
    {
     "name": "stdout",
     "output_type": "stream",
     "text": [
      "         Age Gender  Grade  Marks Result\n",
      "Name                                    \n",
      "Alice     20      F     10     85   Pass\n",
      "Bob       19      M     10     78   Fail\n",
      "Charlie   21      M     11     92   Pass\n",
      "Diana     20      F     11     88   Pass\n",
      "Ethan     22      M     12     76   Fail\n",
      "Fiona     19      F     12     95   Pass\n"
     ]
    }
   ],
   "source": [
    "df['Result'] = df['Marks'].apply(lambda x: 'Pass' if x >= 80 else 'Fail')\n",
    "print(df)"
   ]
  },
  {
   "cell_type": "code",
   "execution_count": 28,
   "metadata": {},
   "outputs": [
    {
     "name": "stdout",
     "output_type": "stream",
     "text": [
      "         Age Gender  Grade  Marks Result\n",
      "Name                                    \n",
      "Charlie   21      M     11     92   Pass\n",
      "Diana     20      F     11     88   Pass\n"
     ]
    }
   ],
   "source": [
    "filtered_df = df[(df['Grade'] == 11) & (df['Marks'] > 85)]\n",
    "print(filtered_df)"
   ]
  },
  {
   "cell_type": "code",
   "execution_count": 29,
   "metadata": {},
   "outputs": [
    {
     "name": "stdout",
     "output_type": "stream",
     "text": [
      "Average Marks: 85.66666666666667\n"
     ]
    }
   ],
   "source": [
    "average_marks = df['Marks'].mean()\n",
    "print(f\"Average Marks: {average_marks}\")"
   ]
  },
  {
   "cell_type": "code",
   "execution_count": 30,
   "metadata": {},
   "outputs": [
    {
     "name": "stdout",
     "output_type": "stream",
     "text": [
      "Gender\n",
      "F    3\n",
      "M    3\n",
      "Name: count, dtype: int64\n"
     ]
    }
   ],
   "source": [
    "counts = df['Gender'].value_counts()\n",
    "print(counts)"
   ]
  },
  {
   "cell_type": "code",
   "execution_count": 31,
   "metadata": {},
   "outputs": [
    {
     "name": "stdout",
     "output_type": "stream",
     "text": [
      "Filtered data saved to top_students.csv\n"
     ]
    }
   ],
   "source": [
    "top_students = df[df['Marks'] > 80]\n",
    "top_students.to_csv('top_students.csv', index=False)\n",
    "print(\"Filtered data saved to top_students.csv\")"
   ]
  },
  {
   "cell_type": "code",
   "execution_count": 32,
   "metadata": {},
   "outputs": [
    {
     "name": "stdout",
     "output_type": "stream",
     "text": [
      "      Name  Age Gender  Grade  Marks Result\n",
      "0    Alice   20      F     10     85   Pass\n",
      "1      Bob   19      M     10     78   Fail\n",
      "2  Charlie   21      M     11     92   Pass\n",
      "3    Diana   20      F     11     88   Pass\n",
      "4    Ethan   22      M     12     76   Fail\n",
      "5    Fiona   19      F     12     95   Pass\n"
     ]
    }
   ],
   "source": [
    "df = df.reset_index()\n",
    "print(df)"
   ]
  },
  {
   "cell_type": "code",
   "execution_count": 5,
   "metadata": {},
   "outputs": [
    {
     "data": {
      "image/png": "[encoded data removed]",
      "text/plain": [
       "<Figure size 432x288 with 1 Axes>"
      ]
     },
     "metadata": {},
     "output_type": "display_data"
    }
   ],
   "source": [
    "import pandas as pd\n",
    "import matplotlib.pyplot as plt\n",
    "data = {\n",
    "    'Name': ['Alice', 'Bob', 'Charlie', 'Diana', 'Ethan', 'Fiona'],\n",
    "    'Age': [20, 19, 21, 20, 22, 19],\n",
    "    'Gender': ['F', 'M', 'M', 'F', 'M', 'F'],\n",
    "    'Grade': [10, 10, 11, 11, 12, 12],\n",
    "    'Marks': [85, 78, 92, 88, 76, 95]\n",
    "}\n",
    "\n",
    "df = pd.DataFrame(data)\n",
    "names = df['Name']\n",
    "grades = df['Grade']\n",
    "plt.plot(names, grades, marker='o')\n",
    "plt.xlabel('Name')\n",
    "plt.ylabel('Grade')\n",
    "plt.title('Name vs Grade')\n",
    "plt.xticks(rotation=45)\n",
    "plt.grid(True)\n",
    "plt.show()"
   ]
  },
  {
   "cell_type": "code",
   "execution_count": null,
   "metadata": {},
   "outputs": [],
   "source": []
  }
 ],
 "metadata": {
  "kernelspec": {
   "display_name": "Python 3",
   "language": "python",
   "name": "python3"
  },
  "language_info": {
   "codemirror_mode": {
    "name": "ipython",
    "version": 3
   },
   "file_extension": ".py",
   "mimetype": "text/x-python",
   "name": "python",
   "nbconvert_exporter": "python",
   "pygments_lexer": "ipython3",
   "version": "3.6.5"
  }
 },
 "nbformat": 4,
 "nbformat_minor": 5
}
